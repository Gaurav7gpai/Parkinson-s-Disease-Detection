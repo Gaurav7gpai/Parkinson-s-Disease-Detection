{
  "cells": [
    {
      "cell_type": "markdown",
      "metadata": {
        "id": "wia2Nt6NI5SY"
      },
      "source": [
        "# Parkisons Disease Detection using Machine Learning\n"
      ]
    },
    {
      "cell_type": "code",
      "execution_count": null,
      "metadata": {
        "colab": {
          "base_uri": "https://localhost:8080/"
        },
        "id": "c-JzzW0_JpG7",
        "outputId": "ea356b9e-4cf2-49f5-a0fb-78f7eb918af6"
      },
      "outputs": [],
      "source": [
        "# Importing Libraries\n",
        "import requests\n",
        "import pandas as pd\n",
        "from imblearn.over_sampling import SMOTE\n",
        "import seaborn as sns\n",
        "import matplotlib.pyplot as plt\n",
        "\n",
        "from sklearn.preprocessing import MinMaxScaler\n",
        "from sklearn.model_selection import train_test_split\n",
        "from sklearn.model_selection import GridSearchCV\n",
        "from sklearn.ensemble import RandomForestClassifier\n",
        "from sklearn.tree import DecisionTreeClassifier\n",
        "from sklearn.linear_model import LogisticRegression\n",
        "from sklearn.neighbors import KNeighborsClassifier\n",
        "from sklearn import svm\n",
        "from sklearn.svm import SVC\n",
        "from sklearn.naive_bayes import GaussianNB as Naive_Bayes\n",
        "from sklearn import metrics\n",
        "from sklearn.metrics import classification_report\n",
        "from sklearn.metrics import confusion_matrix\n",
        "from sklearn.metrics import accuracy_score\n",
        "from sklearn.model_selection import cross_val_score\n",
        "from sklearn.datasets import make_classification\n",
        "from sklearn.metrics import ConfusionMatrixDisplay\n",
        "from xgboost import XGBClassifier\n",
        "import joblib\n",
        "\n",
        "\n",
        "#from IPython.display import display"
      ]
    },
    {
      "cell_type": "markdown",
      "metadata": {
        "id": "qVq0QiG2JmGE"
      },
      "source": [
        "# Data Collection\n",
        "\n",
        "\n",
        "---\n",
        "\n",
        "\n",
        "**Dataset Used :** Parkinsons Disease Dataset <br>\n",
        "**Dataset Source :** UCI Machine Learning Repository <br>\n",
        "**Dataset Hosting URL :** https://archive.ics.uci.edu/ml/machine-learning-databases/parkinsons/parkinsons.data <br>"
      ]
    },
    {
      "cell_type": "code",
      "execution_count": null,
      "metadata": {
        "id": "OU9A9AbPJh0s"
      },
      "outputs": [],
      "source": [
        "# URL For Data Files\n",
        "url_string = 'https://archive.ics.uci.edu/ml/machine-learning-databases/parkinsons/parkinsons.data'"
      ]
    },
    {
      "cell_type": "code",
      "execution_count": null,
      "metadata": {
        "id": "ewqDaxJqJ0cB"
      },
      "outputs": [],
      "source": [
        "# Downloading Content From URL & Storing Into Local File\n",
        "url_content = requests.get(url_string).content\n",
        "with open('data.csv', 'wb') as data_file:\n",
        "  data_file.write(url_content)"
      ]
    },
    {
      "cell_type": "code",
      "execution_count": null,
      "metadata": {
        "id": "GpXfnVyNKNss"
      },
      "outputs": [],
      "source": [
        "df = pd.read_csv('data.csv') #Read the file"
      ]
    },
    {
      "cell_type": "code",
      "execution_count": null,
      "metadata": {},
      "outputs": [],
      "source": [
        "df"
      ]
    },
    {
      "cell_type": "code",
      "execution_count": null,
      "metadata": {},
      "outputs": [],
      "source": [
        "df.shape"
      ]
    },
    {
      "cell_type": "markdown",
      "metadata": {
        "id": "ZG_kLS26LGhy"
      },
      "source": [
        "# Data Preprocessing\n",
        "\n",
        "\n",
        "---\n",
        " The following steps are performed on the dataset in this section:\n",
        " + Dropping Redudant Columns\n",
        " + Checking For Duplicated Rows\n",
        " + Checking For Missing Values"
      ]
    },
    {
      "cell_type": "code",
      "execution_count": null,
      "metadata": {
        "colab": {
          "base_uri": "https://localhost:8080/",
          "height": 226
        },
        "id": "kghIQRQFKaMY",
        "outputId": "b356df25-833b-4dbb-a274-1f7bb544d236"
      },
      "outputs": [],
      "source": [
        "# Exploring Dataset Content\n",
        "df.head()"
      ]
    },
    {
      "cell_type": "code",
      "execution_count": null,
      "metadata": {
        "colab": {
          "base_uri": "https://localhost:8080/",
          "height": 226
        },
        "id": "CNGNuI9rLTdr",
        "outputId": "eb743cea-6729-4107-f239-caf822fbec7e"
      },
      "outputs": [],
      "source": [
        "df.tail()"
      ]
    },
    {
      "cell_type": "code",
      "execution_count": null,
      "metadata": {},
      "outputs": [],
      "source": [
        "df.columns"
      ]
    },
    {
      "cell_type": "code",
      "execution_count": null,
      "metadata": {},
      "outputs": [],
      "source": [
        "df.shape[0]"
      ]
    },
    {
      "cell_type": "code",
      "execution_count": null,
      "metadata": {
        "colab": {
          "base_uri": "https://localhost:8080/"
        },
        "id": "9v0_ItbsMSUw",
        "outputId": "8794289f-6f8f-412a-a889-c1e0838c3f0a"
      },
      "outputs": [],
      "source": [
        "print('Number of Features In Dataset :', df.shape[1])\n",
        "print('Number of Instances In Dataset : ', df.shape[0])"
      ]
    },
    {
      "cell_type": "markdown",
      "metadata": {
        "id": "K72z91cCLcMj"
      },
      "source": [
        "The column **name**, is a *Redundant* column which is not useful for Analysis or Machine Learning, and will be dropped from the dataframe."
      ]
    },
    {
      "cell_type": "code",
      "execution_count": null,
      "metadata": {
        "id": "uS_Qdo1hLXOb"
      },
      "outputs": [],
      "source": [
        "# Dropping The Name Column\n",
        "df.drop(['name'], axis=1, inplace=True)"
      ]
    },
    {
      "cell_type": "code",
      "execution_count": null,
      "metadata": {
        "colab": {
          "base_uri": "https://localhost:8080/"
        },
        "id": "SNE20TQBMQjE",
        "outputId": "f44d73e5-345a-4e46-a322-136aeb3b4844"
      },
      "outputs": [],
      "source": [
        "print('Number of Features In Dataset :', df.shape[1])\n",
        "print('Number of Instances In Dataset : ', df.shape[0])"
      ]
    },
    {
      "cell_type": "code",
      "execution_count": null,
      "metadata": {
        "colab": {
          "base_uri": "https://localhost:8080/"
        },
        "id": "LabwYbPIMocB",
        "outputId": "0041c3c8-1662-4da8-9a0b-9fcd0fe718c2"
      },
      "outputs": [],
      "source": [
        "df.info()"
      ]
    },
    {
      "cell_type": "code",
      "execution_count": null,
      "metadata": {
        "colab": {
          "base_uri": "https://localhost:8080/",
          "height": 320
        },
        "id": "vN4QmlB3MuI8",
        "outputId": "8bb4bfd4-b7fd-46ae-e523-ac309e25c120"
      },
      "outputs": [],
      "source": [
        "df.describe()"
      ]
    },
    {
      "cell_type": "markdown",
      "metadata": {
        "id": "9NMll7keNb08"
      },
      "source": [
        "It can be observed that the column **Status** is stored as *int64* datatype. However, since the column contains only two numeric values **0 & 1**, we will be changing the datatype to *uint8*, to save Memory Space. "
      ]
    },
    {
      "cell_type": "code",
      "execution_count": null,
      "metadata": {
        "id": "h39hElifMysw"
      },
      "outputs": [],
      "source": [
        "df['status'] = df['status'].astype('uint8')"
      ]
    },
    {
      "cell_type": "code",
      "execution_count": null,
      "metadata": {
        "colab": {
          "base_uri": "https://localhost:8080/"
        },
        "id": "AWh3fG9nOHwF",
        "outputId": "cebbee1f-94f4-4850-a6ab-fb98fdd5dffa"
      },
      "outputs": [],
      "source": [
        "df.info()"
      ]
    },
    {
      "cell_type": "code",
      "execution_count": null,
      "metadata": {},
      "outputs": [],
      "source": [
        "df.duplicated().sum()"
      ]
    },
    {
      "cell_type": "code",
      "execution_count": null,
      "metadata": {
        "colab": {
          "base_uri": "https://localhost:8080/"
        },
        "id": "tI5ZEo_FOMPX",
        "outputId": "0b2dd947-aafc-4de8-e2f1-9a0b7fda0433"
      },
      "outputs": [],
      "source": [
        "# Checking For Duplicate Rows In Dataset\n",
        "print('Number of Duplicated Rows :',df.duplicated().sum())"
      ]
    },
    {
      "cell_type": "markdown",
      "metadata": {
        "id": "j_2DxIEROfUW"
      },
      "source": [
        "As observed in the above step, the dataset does **NOT** contain any Duplicated Rows."
      ]
    },
    {
      "cell_type": "code",
      "execution_count": null,
      "metadata": {
        "colab": {
          "base_uri": "https://localhost:8080/"
        },
        "id": "TXG0fWCVOYG5",
        "outputId": "a5298155-a5a7-4921-ecee-298f5e88d92f"
      },
      "outputs": [],
      "source": [
        "# Checking For Missing Values In Dataset\n",
        "df.isna().sum()"
      ]
    },
    {
      "cell_type": "markdown",
      "metadata": {
        "id": "Enbw6pqgOyJA"
      },
      "source": [
        "As seen in the above step, **No Columns** of the dataset contains any Missing Values."
      ]
    },
    {
      "cell_type": "markdown",
      "metadata": {
        "id": "_7MxC2E37G9X"
      },
      "source": [
        "# Exploratry Data Analysis"
      ]
    },
    {
      "cell_type": "code",
      "execution_count": null,
      "metadata": {},
      "outputs": [],
      "source": [
        "df['status'].value_counts()"
      ]
    },
    {
      "cell_type": "code",
      "execution_count": null,
      "metadata": {},
      "outputs": [],
      "source": [
        "df['status'].unique()"
      ]
    },
    {
      "cell_type": "code",
      "execution_count": null,
      "metadata": {
        "colab": {
          "base_uri": "https://localhost:8080/",
          "height": 297
        },
        "id": "JqOLLob7-5nU",
        "outputId": "c1871664-2658-4e85-d7de-82b77a8be19f"
      },
      "outputs": [],
      "source": [
        "#Balance of Data\n",
        "sns.countplot(x='status',hue='status', data=df)\n",
        "plt.title('Count of Status Values')\n",
        "plt.show()"
      ]
    },
    {
      "cell_type": "code",
      "execution_count": null,
      "metadata": {
        "colab": {
          "base_uri": "https://localhost:8080/",
          "height": 1000
        },
        "id": "VPgqh84X7zoM",
        "outputId": "0d63d82f-d324-4e0b-f2cf-6a392f3403f0"
      },
      "outputs": [],
      "source": [
        "fig, ax = plt.subplots(figsize=(20,20))  \n",
        "sns.heatmap(df.corr(),annot=True,ax=ax)"
      ]
    },
    {
      "cell_type": "markdown",
      "metadata": {
        "id": "MBnOpTMYDw4W"
      },
      "source": [
        "In this correlation heatmap, we can see that many independent features are highly correlated with eachother."
      ]
    },
    {
      "cell_type": "code",
      "execution_count": null,
      "metadata": {
        "colab": {
          "base_uri": "https://localhost:8080/",
          "height": 1000
        },
        "id": "zMvj73tK_4Bh",
        "outputId": "f1261163-a793-4686-82af-20d19126538f"
      },
      "outputs": [],
      "source": [
        "#Box Plot\n",
        "fig,axes=plt.subplots(5,5,figsize=(15,15))\n",
        "axes=axes.flatten()\n",
        "\n",
        "for i, col in enumerate(df.columns[0:-1]):\n",
        "    sns.boxplot(x='status',hue='status',y=col,data=df,orient='v',ax=axes[i])\n",
        "    axes[i].set_title(col)\n",
        "plt.tight_layout()\n",
        "plt.show()"
      ]
    },
    {
      "cell_type": "markdown",
      "metadata": {
        "id": "Z0D-pFxdDkRW"
      },
      "source": [
        "From the boxplot shown above it is very evident that if a patient has a lower rate of 'HNR','MDVP:Flo(Hz)','MDVP:Fhi(Hz)','MDVP:Fo(Hz)' ,then he/she is affected by parkinsons disease."
      ]
    },
    {
      "cell_type": "code",
      "execution_count": null,
      "metadata": {
        "colab": {
          "base_uri": "https://localhost:8080/",
          "height": 903
        },
        "id": "hr_lFdsRA3fp",
        "outputId": "63d87781-e916-4550-a791-8b894e1e3400"
      },
      "outputs": [],
      "source": [
        "plt.rcParams['figure.figsize'] = (15, 4)\n",
        "sns.pairplot(df,hue = 'status', vars = ['MDVP:Jitter(%)','MDVP:Jitter(Abs)','MDVP:RAP','MDVP:PPQ', 'Jitter:DDP'] )\n",
        "plt.show()"
      ]
    },
    {
      "cell_type": "markdown",
      "metadata": {
        "id": "OaOQPs37DQ2F"
      },
      "source": [
        "From the above pair plot we can understand that all these fundamental frequencies are highly correlated with eachother."
      ]
    },
    {
      "cell_type": "code",
      "execution_count": null,
      "metadata": {
        "colab": {
          "base_uri": "https://localhost:8080/",
          "height": 1000
        },
        "id": "MqCf7ZnrDVYi",
        "outputId": "57fb2b02-e629-4a22-ab88-b558f5c22a58"
      },
      "outputs": [],
      "source": [
        "plt.rcParams['figure.figsize'] = (15, 4)\n",
        "sns.pairplot(df,hue = 'status', vars = ['MDVP:Shimmer','MDVP:Shimmer(dB)','Shimmer:APQ3','Shimmer:APQ5','MDVP:APQ','Shimmer:DDA'] )\n",
        "plt.show()"
      ]
    },
    {
      "cell_type": "markdown",
      "metadata": {
        "id": "4U-UoP-dDZlJ"
      },
      "source": [
        "From the above pair plot we can understand that all these measures variation in amplitude are highly correlated with eachother.\n",
        "\n"
      ]
    },
    {
      "cell_type": "markdown",
      "metadata": {
        "id": "lLzhB7Pr5Mfz"
      },
      "source": [
        "# Balancing Dataset\n",
        "---\n",
        "In this section, as it is observed that the Dataset Is Heavily Imbalanced, with Number of Samples of Parkinson Disease Samples being 147, and Non-Parkinson Being only 48. Hence, in this section, we make use of **SMOTE** to **Oversample** and Balance the dataset."
      ]
    },
    {
      "cell_type": "code",
      "execution_count": null,
      "metadata": {
        "colab": {
          "base_uri": "https://localhost:8080/"
        },
        "id": "YFDr8QFc5Mf3",
        "outputId": "f75edbce-049f-4705-bd2f-b262d84cd19c"
      },
      "outputs": [],
      "source": [
        "# Exploring Imabalance In Dataset\n",
        "df['status'].value_counts()"
      ]
    },
    {
      "cell_type": "code",
      "execution_count": null,
      "metadata": {},
      "outputs": [],
      "source": [
        "df['status']"
      ]
    },
    {
      "cell_type": "code",
      "execution_count": null,
      "metadata": {
        "colab": {
          "base_uri": "https://localhost:8080/"
        },
        "id": "WwUB1fvj5Mf9",
        "outputId": "dec5c339-e512-4ac1-f512-0cbb28eae997"
      },
      "outputs": [],
      "source": [
        "# Extracting Features Into Features & Target\n",
        "X = df.drop(['status'], axis=1)\n",
        "y = df['status']\n",
        "\n",
        "print('Feature (X) Shape Before Balancing :', X.shape)\n",
        "print('Target (y) Shape Before Balancing :', y.shape)"
      ]
    },
    {
      "cell_type": "code",
      "execution_count": null,
      "metadata": {
        "id": "pnBu_Q8V5MgA"
      },
      "outputs": [],
      "source": [
        "# Intialising SMOTE Object\n",
        "sm = SMOTE(random_state=300)"
      ]
    },
    {
      "cell_type": "code",
      "execution_count": null,
      "metadata": {
        "colab": {
          "base_uri": "https://localhost:8080/"
        },
        "id": "zpYqphij5MgC",
        "outputId": "ff027036-f68c-4c86-df33-1af4676b7629"
      },
      "outputs": [],
      "source": [
        "# Resampling Data\n",
        "X, y = sm.fit_resample(X, y)"
      ]
    },
    {
      "cell_type": "code",
      "execution_count": null,
      "metadata": {
        "colab": {
          "base_uri": "https://localhost:8080/"
        },
        "id": "LNZmexqZ5MgF",
        "outputId": "33373f29-dcb7-4676-bbb4-172da25fe5e4"
      },
      "outputs": [],
      "source": [
        "print('Feature (X) Shape After Balancing :', X.shape)\n",
        "print('Target (y) Shape After Balancing :', y.shape)"
      ]
    },
    {
      "cell_type": "code",
      "execution_count": null,
      "metadata": {
        "id": "jnMxMDhP5MgI"
      },
      "outputs": [],
      "source": [
        "# Scaling features between -1 and 1  for mormalization \n",
        "scaler = MinMaxScaler((-1,1))"
      ]
    },
    {
      "cell_type": "code",
      "execution_count": null,
      "metadata": {
        "id": "vpzKn-t_5MgK"
      },
      "outputs": [],
      "source": [
        "# define X_features , Y_labels\n",
        "X_features = scaler.fit_transform(X)\n",
        "Y_labels = y"
      ]
    },
    {
      "cell_type": "code",
      "execution_count": null,
      "metadata": {
        "id": "wcTgzuWz5MgN"
      },
      "outputs": [],
      "source": [
        "# splitting the dataset into traning and testing sets into 80 - 20\n",
        "from sklearn.model_selection import train_test_split\n",
        "X_train , X_test , y_train , y_test = train_test_split(X_features, Y_labels , test_size=0.20, random_state=20)"
      ]
    },
    {
      "cell_type": "markdown",
      "metadata": {
        "id": "0lRT_Zj4CSBY"
      },
      "source": [
        "# Machine Learning Model Training\n",
        "In this section, we have trained the following Machine Learning Models:\n",
        "+ Decision Tree Classifier\n",
        "+ Random Forest Classifier\n",
        "+ Logistic Regression\n",
        "+ SVM \n",
        "+ Naive Bayes\n",
        "+ KNN Classifier\n",
        "+ XGBoost Classifier"
      ]
    },
    {
      "cell_type": "markdown",
      "metadata": {
        "id": "-czd7JYPSF_Y"
      },
      "source": [
        "## Decision Tree Classifier"
      ]
    },
    {
      "cell_type": "code",
      "execution_count": null,
      "metadata": {
        "colab": {
          "base_uri": "https://localhost:8080/"
        },
        "id": "KB4vUE0iSF_q",
        "outputId": "2f58b0c9-864e-4a36-d8ac-06341e7a4473"
      },
      "outputs": [],
      "source": [
        "clf = DecisionTreeClassifier()\n",
        "clf.fit(X_train, y_train)\n",
        "predDT = clf.predict(X_test)\n",
        "\n",
        "print(classification_report(y_test, predDT))"
      ]
    },
    {
      "cell_type": "code",
      "execution_count": null,
      "metadata": {
        "colab": {
          "base_uri": "https://localhost:8080/"
        },
        "id": "7mDc6CdPSF_s",
        "outputId": "4140f7f0-2851-41dc-ce1e-c2dafc1c9ba6"
      },
      "outputs": [],
      "source": [
        "n_features = X_train.shape[1]\n",
        "\n",
        "# Adjust max_features dynamically\n",
        "valid_max_features = ['sqrt', 'log2', None]\n",
        "if n_features < 4:\n",
        "    valid_max_features = [None]\n",
        "\n",
        "param_grid = { \n",
        "    'max_features': valid_max_features,\n",
        "    'max_depth' :range(1,10),\n",
        "    'random_state':range(30,210,30),\n",
        "    'criterion' :['gini', 'entropy']\n",
        "}\n",
        "clf = DecisionTreeClassifier()\n",
        "\n",
        "CV_dt = GridSearchCV(estimator=clf, param_grid=param_grid, cv= 5, scoring='accuracy', error_score='raise')\n",
        "CV_dt.fit(X_train, y_train)\n",
        "\n",
        "print(\"Best Parameters:\", CV_dt.best_params_)\n",
        "print(\"Best Accuracy:\", CV_dt.best_score_)"
      ]
    },
    {
      "cell_type": "code",
      "execution_count": null,
      "metadata": {
        "colab": {
          "base_uri": "https://localhost:8080/"
        },
        "id": "MaA3oqXZSF_t",
        "outputId": "0b14fcdd-c171-43e8-c695-d81d3a484d52"
      },
      "outputs": [],
      "source": [
        "CV_dt.best_params_"
      ]
    },
    {
      "cell_type": "code",
      "execution_count": null,
      "metadata": {
        "colab": {
          "base_uri": "https://localhost:8080/"
        },
        "id": "bUmXeWkiSF_t",
        "outputId": "1c6208f9-ed0b-41c6-d40c-f29229e943b9"
      },
      "outputs": [],
      "source": [
        "dt1=DecisionTreeClassifier(random_state=120, max_features='sqrt', max_depth=6, criterion='entropy')\n",
        "dt1.fit(X_train, y_train)\n",
        "predDT = dt1.predict(X_test) \n",
        "print(classification_report(y_test, predDT))"
      ]
    },
    {
      "cell_type": "code",
      "execution_count": null,
      "metadata": {
        "colab": {
          "base_uri": "https://localhost:8080/",
          "height": 317
        },
        "id": "p__uwpauBtbM",
        "outputId": "7da2e6cf-079d-4fad-85ad-abed66f5f496"
      },
      "outputs": [],
      "source": [
        "cm = confusion_matrix(y_test, predDT) \n",
        "disp = ConfusionMatrixDisplay(confusion_matrix=cm, display_labels=dt1.classes_)\n",
        "disp.plot(cmap='Blues')"
      ]
    },
    {
      "cell_type": "code",
      "execution_count": null,
      "metadata": {
        "colab": {
          "base_uri": "https://localhost:8080/",
          "height": 265
        },
        "id": "weXmoMFbO0wt",
        "outputId": "c4d8b6a1-4ce3-4d79-8ff0-d9994019bc5a"
      },
      "outputs": [],
      "source": [
        "y_pred_proba = dt1.predict_proba(X_test)[::,1]\n",
        "fpr, tpr, _ = metrics.roc_curve(y_test,  y_pred_proba)\n",
        "auc = metrics.roc_auc_score(y_test, y_pred_proba)\n",
        "plt.plot(fpr,tpr,label=\"data 1, auc=\"+str(auc))\n",
        "plt.legend(loc=4)\n",
        "plt.show()"
      ]
    },
    {
      "cell_type": "code",
      "execution_count": null,
      "metadata": {
        "colab": {
          "base_uri": "https://localhost:8080/"
        },
        "id": "HYQxupAlOUzv",
        "outputId": "7cd899a9-7c5b-4de8-a85a-8a016f44bcc4"
      },
      "outputs": [],
      "source": [
        "# Dumping Decision Tree Classifier\n",
        "joblib.dump(dt1, 'dt_clf.pkl')"
      ]
    },
    {
      "cell_type": "markdown",
      "metadata": {
        "id": "J5nmbQBNRxCc"
      },
      "source": [
        "## Random Forest Classifier"
      ]
    },
    {
      "cell_type": "code",
      "execution_count": null,
      "metadata": {
        "colab": {
          "base_uri": "https://localhost:8080/"
        },
        "id": "QS0l9xshGWXo",
        "outputId": "fba12107-4705-484a-f07f-7013c6088170"
      },
      "outputs": [],
      "source": [
        "rfc = RandomForestClassifier()\n",
        "rfc.fit(X_train, y_train)\n",
        "predRF = rfc.predict(X_test)\n",
        "\n",
        "print(classification_report(y_test, predRF))"
      ]
    },
    {
      "cell_type": "code",
      "execution_count": null,
      "metadata": {},
      "outputs": [],
      "source": [
        "from sklearn.ensemble import RandomForestClassifier\n",
        "from sklearn.model_selection import GridSearchCV\n",
        "\n",
        "# Step 1: Calculate features and adjust max_features\n",
        "n_features = X_train.shape[1]\n",
        "valid_max_features = ['sqrt', 'log2', None] if n_features >= 4 else [None]\n",
        "\n",
        "# Step 2: Define parameter grid\n",
        "param_grid = {\n",
        "    'n_estimators': range(100, 300, 25),\n",
        "    'max_features': valid_max_features,\n",
        "    'max_depth': range(1, 10),\n",
        "    'criterion': ['gini', 'entropy']\n",
        "}\n",
        "\n",
        "# Step 3: Initialize and perform GridSearch\n",
        "rfc = RandomForestClassifier(random_state=42)  # Random state fixed for reproducibility\n",
        "CV_rfc = GridSearchCV(estimator=rfc, param_grid=param_grid, cv=5, scoring='accuracy', error_score='raise', n_jobs=-1)\n",
        "CV_rfc.fit(X_train, y_train)\n",
        "\n",
        "# Step 4: Display results\n",
        "print(\"Best Parameters:\", CV_dt.best_params_)\n",
        "print(\"Best Accuracy:\", CV_dt.best_score_)\n"
      ]
    },
    {
      "cell_type": "code",
      "execution_count": null,
      "metadata": {
        "colab": {
          "base_uri": "https://localhost:8080/"
        },
        "id": "9Od05EhdHzBe",
        "outputId": "2e22b885-ffe9-4cc0-ec60-90dcd370dbf7"
      },
      "outputs": [],
      "source": [
        "CV_rfc.best_params_"
      ]
    },
    {
      "cell_type": "code",
      "execution_count": null,
      "metadata": {
        "colab": {
          "base_uri": "https://localhost:8080/"
        },
        "id": "CAnyg4D-H36l",
        "outputId": "324cffca-b4e1-456b-eb7f-270c7d42817c"
      },
      "outputs": [],
      "source": [
        "rfc1=RandomForestClassifier(random_state=200, max_features='sqrt', n_estimators= 125, max_depth=6, criterion='entropy')\n",
        "rfc1.fit(X_train, y_train)\n",
        "predRFC = rfc1.predict(X_test)\n",
        "print(classification_report(y_test, predRFC))"
      ]
    },
    {
      "cell_type": "code",
      "execution_count": null,
      "metadata": {
        "colab": {
          "base_uri": "https://localhost:8080/",
          "height": 317
        },
        "id": "s4nUsKnrCWak",
        "outputId": "b91d3990-8d34-4ada-bf55-5243b14c9cea"
      },
      "outputs": [],
      "source": [
        "cm = confusion_matrix(y_test, predRFC) \n",
        "disp = ConfusionMatrixDisplay(confusion_matrix=cm, display_labels=rfc1.classes_)\n",
        "disp.plot(cmap='Blues')"
      ]
    },
    {
      "cell_type": "code",
      "execution_count": null,
      "metadata": {
        "colab": {
          "base_uri": "https://localhost:8080/",
          "height": 265
        },
        "id": "tSkboTfnP_SV",
        "outputId": "d78516cc-d9a4-47bf-ffa4-cf52d9a57d63"
      },
      "outputs": [],
      "source": [
        "y_pred_proba = rfc1.predict_proba(X_test)[::,1]\n",
        "fpr, tpr, _ = metrics.roc_curve(y_test,  y_pred_proba)\n",
        "auc = metrics.roc_auc_score(y_test, y_pred_proba)\n",
        "plt.plot(fpr,tpr,label=\"data 1, auc=\"+str(auc))\n",
        "plt.legend(loc=4)\n",
        "plt.show()"
      ]
    },
    {
      "cell_type": "code",
      "execution_count": null,
      "metadata": {
        "colab": {
          "base_uri": "https://localhost:8080/"
        },
        "id": "4LuQBG62P9L8",
        "outputId": "edb34f2f-bf61-4242-ea2b-c36d7ec94b81"
      },
      "outputs": [],
      "source": [
        "# Dumping Random Forest Classifier\n",
        "joblib.dump(rfc1, 'rf_clf.pkl')"
      ]
    },
    {
      "cell_type": "markdown",
      "metadata": {
        "id": "vKPXY385FTE9"
      },
      "source": [
        "## Logistic Regression"
      ]
    },
    {
      "cell_type": "code",
      "execution_count": null,
      "metadata": {
        "id": "zJNbBstUFWgz"
      },
      "outputs": [],
      "source": [
        "logmodel = LogisticRegression()\n",
        "logmodel.fit(X_train, y_train)\n",
        "predlog = logmodel.predict(X_test)"
      ]
    },
    {
      "cell_type": "code",
      "execution_count": null,
      "metadata": {
        "colab": {
          "base_uri": "https://localhost:8080/"
        },
        "id": "rI1CcFzKGEOS",
        "outputId": "8593fd2b-8546-4d9a-8f8c-65b2ffd32e01"
      },
      "outputs": [],
      "source": [
        "print(classification_report(y_test, predlog))\n",
        "print(\"Confusion Matrix:\")\n",
        "confusion_matrix(y_test, predlog)"
      ]
    },
    {
      "cell_type": "code",
      "execution_count": null,
      "metadata": {
        "colab": {
          "base_uri": "https://localhost:8080/",
          "height": 317
        },
        "id": "2vV-kliZ7o52",
        "outputId": "c823857e-338a-423b-a3e3-8677fb2635ca"
      },
      "outputs": [],
      "source": [
        "cm = confusion_matrix(y_test, predlog) \n",
        "disp = ConfusionMatrixDisplay(confusion_matrix=cm, display_labels=logmodel.classes_)\n",
        "disp.plot(cmap='Blues')"
      ]
    },
    {
      "cell_type": "code",
      "execution_count": null,
      "metadata": {
        "colab": {
          "base_uri": "https://localhost:8080/",
          "height": 265
        },
        "id": "_U8jsHqT9LD2",
        "outputId": "37db5b75-312f-4ebf-f1b4-e3c0eb4c4931"
      },
      "outputs": [],
      "source": [
        "y_pred_proba = logmodel.predict_proba(X_test)[::,1]\n",
        "fpr, tpr, _ = metrics.roc_curve(y_test,  y_pred_proba)\n",
        "auc = metrics.roc_auc_score(y_test, y_pred_proba)\n",
        "plt.plot(fpr,tpr,label=\"data 1, auc=\"+str(auc))\n",
        "plt.legend(loc=4)\n",
        "plt.show()"
      ]
    },
    {
      "cell_type": "code",
      "execution_count": null,
      "metadata": {
        "colab": {
          "base_uri": "https://localhost:8080/"
        },
        "id": "8REL03p6OlE4",
        "outputId": "259e5732-e87e-40f1-c292-1abee5e1e2b9"
      },
      "outputs": [],
      "source": [
        "# Dumping Logistic Regression Model\n",
        "joblib.dump(logmodel, 'lg_clf.pkl')"
      ]
    },
    {
      "cell_type": "markdown",
      "metadata": {
        "id": "K6gPD0UBIX0a"
      },
      "source": [
        "## SVM"
      ]
    },
    {
      "cell_type": "markdown",
      "metadata": {
        "id": "V11pQbFlI7Ly"
      },
      "source": [
        "SVM With Linear Kernel"
      ]
    },
    {
      "cell_type": "code",
      "execution_count": null,
      "metadata": {
        "colab": {
          "base_uri": "https://localhost:8080/"
        },
        "id": "kdHRv6dWIgHb",
        "outputId": "b6383d1c-ede3-4a54-be98-54b5f181a428"
      },
      "outputs": [],
      "source": [
        "#Create a svm Classifier\n",
        "clf = svm.SVC(kernel='linear') # Linear Kernel\n",
        "\n",
        "#Train the model using the training sets\n",
        "clf.fit(X_train, y_train)\n",
        "\n",
        "#Predict the response for test dataset\n",
        "y_pred = clf.predict(X_test)\n",
        "\n",
        "# Model Accuracy: how often is the classifier correct?\n",
        "print(\"Test Set Accuracy:\",metrics.accuracy_score(y_test, y_pred))\n",
        "\n",
        "X_pred = clf.predict(X_train)\n",
        "print(\"Train Set Accuracy:\",metrics.accuracy_score(y_train, X_pred))"
      ]
    },
    {
      "cell_type": "code",
      "execution_count": null,
      "metadata": {
        "colab": {
          "base_uri": "https://localhost:8080/"
        },
        "id": "onFKIRonIwQ2",
        "outputId": "c786f896-54bb-4f32-b9a5-2d0b9e542401"
      },
      "outputs": [],
      "source": [
        "param_grid = {'kernel':['linear','rbf','poly'],'C': [0.5, 1, 10, 100],  \n",
        "              'gamma': [1, 0.1, 0.01, 0.001, 0.0001]}\n",
        "\n",
        "grid_SVC = GridSearchCV(svm.SVC(), param_grid, scoring='f1', verbose = 3)\n",
        "grid_SVC.fit(X_train, y_train)\n",
        "\n",
        "# print best parameter after tuning \n",
        "print(\"\\nBest Parameters: \", grid_SVC.best_params_)\n",
        "\n",
        "# print how our model looks after hyper-parameter tuning\n",
        "print(\"\\n\", grid_SVC.best_estimator_)\n",
        "\n",
        "predSVC = grid_SVC.predict(X_test) \n",
        "  \n",
        "# print classification report \n",
        "print(\"\\n\", classification_report(y_test, predSVC)) "
      ]
    },
    {
      "cell_type": "code",
      "execution_count": null,
      "metadata": {
        "colab": {
          "base_uri": "https://localhost:8080/",
          "height": 317
        },
        "id": "8HHUj8kV75kO",
        "outputId": "8e94d77f-041d-43a8-b29f-1ee3ee2f508b"
      },
      "outputs": [],
      "source": [
        "cm = confusion_matrix(y_test, predSVC) \n",
        "disp = ConfusionMatrixDisplay(confusion_matrix=cm, display_labels=clf.classes_)\n",
        "disp.plot(cmap='Blues')"
      ]
    },
    {
      "cell_type": "code",
      "execution_count": null,
      "metadata": {
        "colab": {
          "base_uri": "https://localhost:8080/",
          "height": 265
        },
        "id": "mhOhw1v_QSu5",
        "outputId": "7cab5214-9dcc-4c02-8c07-4dc419312828"
      },
      "outputs": [],
      "source": [
        "fpr, tpr, _ = metrics.roc_curve(y_test,  predSVC)\n",
        "auc = metrics.roc_auc_score(y_test, predSVC)\n",
        "plt.plot(fpr,tpr,label=\"data 1, auc=\"+str(auc))\n",
        "plt.legend(loc=4)\n",
        "plt.show()"
      ]
    },
    {
      "cell_type": "code",
      "execution_count": null,
      "metadata": {
        "colab": {
          "base_uri": "https://localhost:8080/"
        },
        "id": "HWF8g8j9OzcM",
        "outputId": "2af45349-d077-4246-d56f-885003ea2e63"
      },
      "outputs": [],
      "source": [
        "# Dumping SVM Classifier\n",
        "joblib.dump(grid_SVC, 'svm_clf.pkl')"
      ]
    },
    {
      "cell_type": "markdown",
      "metadata": {
        "id": "4mWhU-WD0Qho"
      },
      "source": [
        "## Naive Bayes "
      ]
    },
    {
      "cell_type": "code",
      "execution_count": null,
      "metadata": {
        "colab": {
          "base_uri": "https://localhost:8080/"
        },
        "id": "223OPwREyGMD",
        "outputId": "06fadae7-7b68-49ab-8fad-471881f4a152"
      },
      "outputs": [],
      "source": [
        "# Naive Bayes\n",
        "\n",
        "gnb = Naive_Bayes()\n",
        "gnb.fit(X_train, y_train)\n",
        "predgnb = gnb.predict(X_test)\n",
        "\n",
        "print(classification_report(y_test, predgnb))"
      ]
    },
    {
      "cell_type": "code",
      "execution_count": null,
      "metadata": {
        "colab": {
          "base_uri": "https://localhost:8080/"
        },
        "id": "5EjusArzzZPy",
        "outputId": "052d7037-5754-4cfd-fb18-8dcc44775269"
      },
      "outputs": [],
      "source": [
        "print(\"Confusion Matrix:\")\n",
        "confusion_matrix(y_test, predgnb)"
      ]
    },
    {
      "cell_type": "code",
      "execution_count": null,
      "metadata": {
        "colab": {
          "base_uri": "https://localhost:8080/"
        },
        "id": "HIdrM5R-05ey",
        "outputId": "cc2a2c4e-4ddf-4b00-8869-dd20cc73b378"
      },
      "outputs": [],
      "source": [
        "# scores -check how efficiently labels are predicted\n",
        "accuracy_testing = accuracy_score(y_test, predgnb)\n",
        "print(\"Accuracy % :\",accuracy_testing*100)"
      ]
    },
    {
      "cell_type": "code",
      "execution_count": null,
      "metadata": {
        "colab": {
          "base_uri": "https://localhost:8080/",
          "height": 317
        },
        "id": "tYciU6-w8CXs",
        "outputId": "8068f47b-53ff-41d6-917c-3cb4953e7a31"
      },
      "outputs": [],
      "source": [
        "cm = confusion_matrix(y_test, predgnb) \n",
        "disp = ConfusionMatrixDisplay(confusion_matrix=cm, display_labels=gnb.classes_)\n",
        "disp.plot(cmap='Blues')"
      ]
    },
    {
      "cell_type": "code",
      "execution_count": null,
      "metadata": {
        "colab": {
          "base_uri": "https://localhost:8080/",
          "height": 265
        },
        "id": "337X8GltQa_G",
        "outputId": "5253e1f9-bda8-48a9-a0ee-d50a2e27dd6e"
      },
      "outputs": [],
      "source": [
        "y_pred_proba = gnb.predict_proba(X_test)[::,1]\n",
        "fpr, tpr, _ = metrics.roc_curve(y_test,  y_pred_proba)\n",
        "auc = metrics.roc_auc_score(y_test, y_pred_proba)\n",
        "plt.plot(fpr,tpr,label=\"data 1, auc=\"+str(auc))\n",
        "plt.legend(loc=4)\n",
        "plt.show()"
      ]
    },
    {
      "cell_type": "code",
      "execution_count": null,
      "metadata": {
        "colab": {
          "base_uri": "https://localhost:8080/"
        },
        "id": "SEH2SC3qPGMO",
        "outputId": "f51d317a-e3f9-4a6c-9f38-73e14cddcfa5"
      },
      "outputs": [],
      "source": [
        "# Dumping Naive Bayes Classifier\n",
        "joblib.dump(gnb, 'nb_clf.pkl')"
      ]
    },
    {
      "cell_type": "markdown",
      "metadata": {
        "id": "KCBbHAMuWDsh"
      },
      "source": [
        "## KNN Classifier\n"
      ]
    },
    {
      "cell_type": "code",
      "execution_count": null,
      "metadata": {
        "colab": {
          "base_uri": "https://localhost:8080/"
        },
        "id": "dQ7GBuH0StLg",
        "outputId": "e7d5c757-9356-44d8-aae7-6cfe35537fda"
      },
      "outputs": [],
      "source": [
        "import numpy as np\n",
        "\n",
        "Ks = 10\n",
        "mean_acc = []\n",
        "ConfustionMx = [];\n",
        "for n in range(2,Ks):\n",
        "    #Train Model and Predict  \n",
        "    neigh = KNeighborsClassifier(n_neighbors = n).fit(X_train,y_train)\n",
        "    yhat=neigh.predict(X_test)\n",
        "    mean_acc.append(metrics.accuracy_score(y_test, yhat))  \n",
        "print('Neighbor Accuracy List')\n",
        "print(mean_acc)"
      ]
    },
    {
      "cell_type": "code",
      "execution_count": null,
      "metadata": {
        "colab": {
          "base_uri": "https://localhost:8080/",
          "height": 297
        },
        "id": "3YAXhkL_S4WI",
        "outputId": "2d3798ba-be5c-4cb6-c60b-ab0d736128aa"
      },
      "outputs": [],
      "source": [
        "plt.plot(range(2,Ks),mean_acc,'g')\n",
        "plt.ylabel('Accuracy ')\n",
        "plt.xlabel('Number of Neighbours (K)')\n",
        "plt.tight_layout()\n",
        "plt.show()"
      ]
    },
    {
      "cell_type": "code",
      "execution_count": null,
      "metadata": {
        "id": "Ys_OfFz2TPAk"
      },
      "outputs": [],
      "source": [
        "knn = KNeighborsClassifier(n_neighbors=5)\n",
        "knn.fit(X_train, y_train)\n",
        "predKNN = knn.predict(X_test)"
      ]
    },
    {
      "cell_type": "code",
      "execution_count": null,
      "metadata": {
        "colab": {
          "base_uri": "https://localhost:8080/",
          "height": 317
        },
        "id": "7U7urK5b8QeX",
        "outputId": "a0d19942-dc7f-444a-d0e1-f81107b3670f"
      },
      "outputs": [],
      "source": [
        "cm = confusion_matrix(y_test, predKNN) \n",
        "disp = ConfusionMatrixDisplay(confusion_matrix=cm, display_labels=knn.classes_)\n",
        "disp.plot(cmap='Blues')"
      ]
    },
    {
      "cell_type": "code",
      "execution_count": null,
      "metadata": {
        "colab": {
          "base_uri": "https://localhost:8080/",
          "height": 265
        },
        "id": "qMEVy93aQj2c",
        "outputId": "d2b89404-578a-4ebe-cec9-ba60b69465b2"
      },
      "outputs": [],
      "source": [
        "y_pred_proba = knn.predict_proba(X_test)[::,1]\n",
        "fpr, tpr, _ = metrics.roc_curve(y_test,  y_pred_proba)\n",
        "auc = metrics.roc_auc_score(y_test, y_pred_proba)\n",
        "plt.plot(fpr,tpr,label=\"data 1, auc=\"+str(auc))\n",
        "plt.legend(loc=4)\n",
        "plt.show()"
      ]
    },
    {
      "cell_type": "code",
      "execution_count": null,
      "metadata": {
        "colab": {
          "base_uri": "https://localhost:8080/"
        },
        "id": "pDz2fh_FPRsV",
        "outputId": "395593de-9062-4aec-8dbb-bb9856ad7900"
      },
      "outputs": [],
      "source": [
        "# Dumping KNN Classifier\n",
        "joblib.dump(knn, 'knn_clf.pkl')"
      ]
    },
    {
      "cell_type": "markdown",
      "metadata": {
        "id": "HyCDYuWK5kcp"
      },
      "source": [
        "## XGBoost Classifer\n",
        "In this section, we have trained a XGBoost Classifier, for classification of Instances to be Parkinsons or Not. The following parameters of the XGBoost Classifier have been optimized in this section:\n",
        "+ **Max Depth**: This value is used to determine the Maximum Depth of the Tree.\n",
        "+ **ETA** : This is also known as Learning Rate.\n",
        "+ **Reg_Lambda** : This is the L2 Regularization for the weights.\n",
        "+ **Random State** : This is used to evaluate and determine the performance of the model based on different random states.\n",
        "\n",
        "The *Parameter Optimization* has been performed using **GridSearchCV** with the following parameters: \n",
        "+ **Scoring Parameter**: F1 Score\n",
        "+ **Cross Validation**: 3"
      ]
    },
    {
      "cell_type": "code",
      "execution_count": null,
      "metadata": {
        "id": "_3JZ7w6o7IwX"
      },
      "outputs": [],
      "source": [
        "# Defining Parameter Dictionary\n",
        "param_dict = {'max_depth': range(4,8), \n",
        "              'learning_rate' : [0.1, 0.2, 0.3, 0.4, 0.5],\n",
        "              'reg_lambda' : [0.8, 0.9, 1, 1.1, 1.2],\n",
        "              'random_state': [300, 600, 900]\n",
        "}"
      ]
    },
    {
      "cell_type": "code",
      "execution_count": null,
      "metadata": {},
      "outputs": [],
      "source": [
        "param_dict_rf = {'max_depth': range(4, 8), 'n_estimators': [10, 50, 100], 'random_state': [300, 600, 900]}\n",
        "rf_clf = GridSearchCV(estimator=RandomForestClassifier(), param_grid=param_dict_rf, scoring='f1', cv=3, verbose=1)\n",
        "rf_clf.fit(X_train, y_train)\n",
        "print(\"Best Score:\", rf_clf.best_score_)\n",
        "print(\"Best Parameters:\", rf_clf.best_params_)\n"
      ]
    },
    {
      "cell_type": "code",
      "execution_count": null,
      "metadata": {},
      "outputs": [],
      "source": [
        "import xgboost as xgb"
      ]
    },
    {
      "cell_type": "code",
      "execution_count": null,
      "metadata": {},
      "outputs": [],
      "source": [
        "import xgboost as xgb\n",
        "from sklearn.metrics import f1_score\n",
        "\n",
        "# Convert data to DMatrix (XGBoost's native format)\n",
        "dtrain = xgb.DMatrix(X_train, label=y_train)\n",
        "dval = xgb.DMatrix(X_test, label=y_test)\n",
        "\n",
        "# Define hyperparameters\n",
        "params = {\n",
        "    'max_depth': 6,\n",
        "    'learning_rate': 0.3,\n",
        "    'reg_lambda': 1.0,\n",
        "    'objective': 'binary:logistic',\n",
        "    'eval_metric': 'logloss',\n",
        "    'seed': 42\n",
        "}\n",
        "\n",
        "# Train model\n",
        "num_boost_round = 50\n",
        "model = xgb.train(params, dtrain, num_boost_round=num_boost_round)\n",
        "\n",
        "# Predict on validation set\n",
        "y_pred = model.predict(dval)\n",
        "y_pred_binary = (y_pred > 0.5).astype(int)  # Threshold at 0.5\n",
        "\n",
        "# Evaluate F1 score\n",
        "f1 = f1_score(y_test, y_pred_binary)\n",
        "print(\"XGBoost F1 Score:\", f1)\n"
      ]
    },
    {
      "cell_type": "code",
      "execution_count": null,
      "metadata": {
        "colab": {
          "base_uri": "https://localhost:8080/",
          "height": 317
        },
        "id": "LIA_ZFBu8Vv1",
        "outputId": "051ecc71-c381-415a-c60c-2a5bf2f0e20f"
      },
      "outputs": [],
      "source": [
        "# plot_confusion_matrix(xgb_clf, X_test, y_test, cmap=plt.cm.Blues) \n",
        "# plt.title('Confusion matrix for XGBoost', y=1.1)\n",
        "# plt.show()\n",
        "cm_xgb = confusion_matrix(y_test, y_pred_binary)\n",
        "\n",
        "# Display confusion matrix for XGBoost\n",
        "disp = ConfusionMatrixDisplay(confusion_matrix=cm_xgb, display_labels=['Class 0', 'Class 1'])\n",
        "disp.plot(cmap='Blues')\n",
        "plt.title('Confusion Matrix for XGBoost')\n",
        "plt.show()"
      ]
    },
    {
      "cell_type": "code",
      "execution_count": null,
      "metadata": {
        "colab": {
          "base_uri": "https://localhost:8080/"
        },
        "id": "PlmVSzlZPlZ3",
        "outputId": "85573a1e-ee27-4f69-8f3b-18b5bec55b51"
      },
      "outputs": [],
      "source": [
        "# Dumping XGBoost Classifier\n",
        "joblib.dump(model, 'xgb_clf.pkl')"
      ]
    },
    {
      "cell_type": "markdown",
      "metadata": {
        "id": "mtzsA1MM1FfF"
      },
      "source": [
        "# Comparision Table"
      ]
    },
    {
      "cell_type": "code",
      "execution_count": null,
      "metadata": {},
      "outputs": [],
      "source": [
        "# Get predictions for test set\n",
        "dtest = xgb.DMatrix(X_test)\n",
        "y_pred = model.predict(dtest)\n",
        "y_pred_binary = (y_pred > 0.5).astype(int)  # Convert probabilities to 0/1\n",
        "\n"
      ]
    },
    {
      "cell_type": "code",
      "execution_count": null,
      "metadata": {
        "id": "HLYpeJ3P8kHW"
      },
      "outputs": [],
      "source": [
        "from sklearn.metrics import precision_score,recall_score ,accuracy_score, f1_score, r2_score, log_loss\n",
        "\n",
        "chart = {\n",
        "        'Metric':[\"Accuracy\", \"F1-Score\", \"Recall\", \"Precision\", \"R2-Score\"],\n",
        "        'DT':[accuracy_score(y_test, predDT), f1_score(y_test, predDT), recall_score(y_test, predDT), precision_score(y_test, predDT), r2_score(y_test, predDT)],\n",
        "        'RF':[accuracy_score(y_test, predRF), f1_score(y_test, predRF), recall_score(y_test, predRF), precision_score(y_test, predRF), r2_score(y_test, predRF)],\n",
        "        'LR':[accuracy_score(y_test, predlog), f1_score(y_test, predlog), recall_score(y_test, predlog), precision_score(y_test, predlog), r2_score(y_test, predlog)],\n",
        "        'SVM':[accuracy_score(y_test, predSVC), f1_score(y_test, predSVC), recall_score(y_test, predSVC), precision_score(y_test, predSVC), r2_score(y_test, predSVC)],\n",
        "        'NB':[accuracy_score(y_test, predgnb), f1_score(y_test, predgnb), recall_score(y_test, predgnb), precision_score(y_test, predgnb), r2_score(y_test, predgnb)],\n",
        "        'KNN':[accuracy_score(y_test, predKNN), f1_score(y_test, predKNN), recall_score(y_test, predKNN), precision_score(y_test, predKNN), r2_score(y_test, predKNN)],\n",
        "        'XGB':[accuracy_score(y_test, y_pred_binary), f1_score(y_test, y_pred_binary), recall_score(y_test, y_pred_binary), precision_score(y_test, y_pred_binary), r2_score(y_test, y_pred_binary)]\n",
        "}\n",
        "chart = pd.DataFrame(chart)"
      ]
    },
    {
      "cell_type": "code",
      "execution_count": null,
      "metadata": {
        "colab": {
          "base_uri": "https://localhost:8080/",
          "height": 206
        },
        "id": "iWiI32WOGeVL",
        "outputId": "01feff50-0678-426a-cfcf-ed0f9153bf2a"
      },
      "outputs": [],
      "source": [
        "display(chart)"
      ]
    },
    {
      "cell_type": "code",
      "execution_count": null,
      "metadata": {},
      "outputs": [],
      "source": []
    }
  ],
  "metadata": {
    "colab": {
      "collapsed_sections": [
        "_7MxC2E37G9X",
        "J5nmbQBNRxCc"
      ],
      "name": "Parkinson Disease Detection",
      "provenance": []
    },
    "kernelspec": {
      "display_name": ".venv",
      "language": "python",
      "name": "python3"
    },
    "language_info": {
      "codemirror_mode": {
        "name": "ipython",
        "version": 3
      },
      "file_extension": ".py",
      "mimetype": "text/x-python",
      "name": "python",
      "nbconvert_exporter": "python",
      "pygments_lexer": "ipython3",
      "version": "3.13.1"
    }
  },
  "nbformat": 4,
  "nbformat_minor": 0
}
